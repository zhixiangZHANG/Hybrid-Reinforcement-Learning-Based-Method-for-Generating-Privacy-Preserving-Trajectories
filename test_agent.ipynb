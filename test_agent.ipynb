{
 "cells": [
  {
   "cell_type": "code",
   "execution_count": 1,
   "id": "52e96604-72b4-4d1c-b9c5-32d09052df1c",
   "metadata": {},
   "outputs": [
    {
     "name": "stdout",
     "output_type": "stream",
     "text": [
      "Device set to : NVIDIA GeForce RTX 3080\n"
     ]
    }
   ],
   "source": [
    "import os\n",
    "import torch\n",
    "from random import randint\n",
    "import numpy as np\n",
    "import gym\n",
    "from gym.spaces import Box, Discrete, MultiBinary\n",
    "import cv2\n",
    "import math\n",
    "import matplotlib.pyplot as plt\n",
    "import time\n",
    "import pandas as pd\n",
    "from tqdm.notebook import tqdm\n",
    "from multiprocessing import Pool\n",
    "import time\n",
    "# import scipy\n",
    "# import scipy.stats\n",
    "from my_function import save_variable, load_variable, cor_to_ind, ind_to_cor, cor_to_nor, nor_to_cor, lat_to_cor, a_star_search\n",
    "from my_ppo import PPO, Memory, ActorCritic, Critic, Actor\n",
    "from my_env import MyEnv\n",
    "device = torch.device('cpu')\n",
    "if(torch.cuda.is_available()): \n",
    "    device = torch.device('cuda:0') \n",
    "    torch.cuda.empty_cache()\n",
    "    print(\"Device set to : \" + str(torch.cuda.get_device_name(device)))\n",
    "else:\n",
    "    print(\"Device set to : cpu\")"
   ]
  },
  {
   "cell_type": "code",
   "execution_count": null,
   "id": "184f9e4f-3616-40f1-a3fd-f5a4c14bbc9c",
   "metadata": {},
   "outputs": [
    {
     "name": "stderr",
     "output_type": "stream",
     "text": [
      "/root/miniconda3/lib/python3.8/site-packages/gym/spaces/box.py:128: UserWarning: \u001b[33mWARN: Box bound precision lowered by casting to float32\u001b[0m\n",
      "  logger.warn(f\"Box bound precision lowered by casting to {self.dtype}\")\n"
     ]
    },
    {
     "name": "stdout",
     "output_type": "stream",
     "text": [
      "ppoF/ppo1000 Time: 1366.02\n",
      "ppoF/ppo2000 Time: 1175.19\n",
      "ppoF/ppo3000 Time: 1163.16\n"
     ]
    }
   ],
   "source": [
    "num_ppo = 80#\n",
    "num_env = 200\n",
    "test_time = 4 #\n",
    "suc_flags = np.zeros((num_ppo, num_env))\n",
    "ave_speed = np.zeros((num_ppo, num_env))\n",
    "dur_time = np.zeros((num_ppo, num_env))\n",
    "i = -1\n",
    "T1 = time.perf_counter()\n",
    "for k in range(0,79):\n",
    "    path = 'ppoF/ppo' + str((k+1)*1000)\n",
    "    ppo = load_variable(path)\n",
    "    i += 1\n",
    "    env = MyEnv(train=False)\n",
    "    for env_ind in range(num_env):\n",
    "        for chance_i  in range(test_time):\n",
    "            if suc_flags[i][env_ind] == 1:\n",
    "                continue\n",
    "            state_1, state_2 = env.reset(rand = env_ind)\n",
    "            temp_chance_speeds = []\n",
    "            memory = Memory()\n",
    "            for t in range(800):\n",
    "                action = ppo.select_action(state_1, state_2, memory)\n",
    "                state_1, state_2, reward, done= env.step(action)\n",
    "                speed = np.linalg.norm(state_1[2:4]*5, ord = 2)\n",
    "                temp_chance_speeds.append(speed)\n",
    "                if done:\n",
    "                    suc_flags[i][env_ind] = 1\n",
    "                    dur_time[i][env_ind] = t+1\n",
    "                    ave_speed[i][env_ind] = np.mean(temp_chance_speeds)\n",
    "                    break\n",
    "            if t == 799 and chance_i == test_time -1:\n",
    "                suc_flags[i][env_ind] = 0\n",
    "                dur_time[i][env_ind] = t+1\n",
    "                ave_speed[i][env_ind] = np.mean(temp_chance_speeds)\n",
    "    T2 = time.perf_counter()\n",
    "    print('{} Time: {:.2f}'.format(path, T2-T1))\n",
    "    T1 = time.perf_counter()\n",
    "\n",
    "save_variable(suc_flags, 'suc_flags')\n",
    "save_variable(ave_speed , 'ave_speed')\n",
    "save_variable(dur_time, 'dur_time')\n",
    "# os.system(\"/usr/bin/shutdown\")"
   ]
  },
  {
   "cell_type": "code",
   "execution_count": null,
   "id": "7e62542c-d672-46a7-9b81-91f1a1226d1f",
   "metadata": {},
   "outputs": [],
   "source": [
    "# np.mean(dur_time[0])"
   ]
  },
  {
   "cell_type": "code",
   "execution_count": null,
   "id": "5904b653-c159-4a92-ae24-a71b7a00f08a",
   "metadata": {},
   "outputs": [],
   "source": [
    "# sum(suc_flags[0])/200"
   ]
  },
  {
   "cell_type": "code",
   "execution_count": null,
   "id": "f5c768a5-1b88-4853-9bbc-93c260a53bb9",
   "metadata": {},
   "outputs": [],
   "source": []
  }
 ],
 "metadata": {
  "kernelspec": {
   "display_name": "Python 3 (ipykernel)",
   "language": "python",
   "name": "python3"
  },
  "language_info": {
   "codemirror_mode": {
    "name": "ipython",
    "version": 3
   },
   "file_extension": ".py",
   "mimetype": "text/x-python",
   "name": "python",
   "nbconvert_exporter": "python",
   "pygments_lexer": "ipython3",
   "version": "3.8.10"
  }
 },
 "nbformat": 4,
 "nbformat_minor": 5
}
